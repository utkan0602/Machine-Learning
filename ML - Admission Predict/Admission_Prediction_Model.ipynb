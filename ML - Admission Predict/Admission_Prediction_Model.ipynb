{
 "cells": [
  {
   "cell_type": "markdown",
   "id": "d47e826a-7148-4353-a17c-5fefbcaf1eda",
   "metadata": {},
   "source": [
    "\n",
    "### **1. GRE Score**\n",
    "📌 **What is it for?** It represents the student's **Graduate Record Examination (GRE)** score. Typically, **a higher GRE score increases the chances of admission**.\n",
    "\n",
    "### **2. TOEFL Score**\n",
    "📌 **What is it for?** It is the student's **Test of English as a Foreign Language (TOEFL)** score. **A crucial factor for international students**, and a higher score **can improve admission chances**.\n",
    "\n",
    "### **3. University Rating**\n",
    "📌 **What is it for?** It indicates the **prestige level of the university** being applied to. Usually, it is rated **on a scale from 1 to 5**. **Higher-rated universities may have stricter admission standards**.\n",
    "\n",
    "### **4. SOP (Statement of Purpose)**\n",
    "📌 **What is it for?** It is a written statement where the student **explains why they chose this university and their academic goals**. **It can have a significant impact on the evaluation process**.\n",
    "\n",
    "### **5. LOR (Letter of Recommendation)**\n",
    "📌 **What is it for?** It reflects the **quality of academic or professional recommendations**. **Strong recommendations can enhance admission chances**.\n",
    "\n",
    "### **6. CGPA (Cumulative Grade Point Average)**\n",
    "📌 **What is it for?** It represents the student's **overall academic performance during their undergraduate studies**. **A high CGPA directly influences admission prospects**.\n",
    "\n",
    "### **7. Research Experience**\n",
    "📌 **What is it for?** It indicates whether the student **has prior research experience**. **It is typically expressed as 0 (no) and 1 (yes)**. **Students with research experience may have an advantage in admissions**.\n",
    "\n",
    "### **8. Chance of Admit**\n",
    "📌 **What is it for?** It is the **probability of admission** calculated by a model. **It generally ranges between 0 and 1**, meaning **higher values indicate greater chances of acceptance**.\n",
    "\n"
   ]
  },
  {
   "cell_type": "code",
   "execution_count": 33,
   "id": "initial_id",
   "metadata": {
    "ExecuteTime": {
     "end_time": "2025-05-06T06:35:19.002264Z",
     "start_time": "2025-05-06T06:35:18.998955Z"
    }
   },
   "outputs": [],
   "source": [
    "import numpy as np\n",
    "import pandas as pd\n",
    "from rich.jupyter import display\n",
    "from IPython.display import display\n",
    "\n",
    "\n",
    "data = pd.read_csv('Admission_Predict.csv')"
   ]
  },
  {
   "cell_type": "code",
   "execution_count": 34,
   "id": "5d2fe400de9d841e",
   "metadata": {
    "ExecuteTime": {
     "end_time": "2025-05-06T06:35:19.035711Z",
     "start_time": "2025-05-06T06:35:19.029209Z"
    }
   },
   "outputs": [
    {
     "data": {
      "text/html": [
       "<div>\n",
       "<style scoped>\n",
       "    .dataframe tbody tr th:only-of-type {\n",
       "        vertical-align: middle;\n",
       "    }\n",
       "\n",
       "    .dataframe tbody tr th {\n",
       "        vertical-align: top;\n",
       "    }\n",
       "\n",
       "    .dataframe thead th {\n",
       "        text-align: right;\n",
       "    }\n",
       "</style>\n",
       "<table border=\"1\" class=\"dataframe\">\n",
       "  <thead>\n",
       "    <tr style=\"text-align: right;\">\n",
       "      <th></th>\n",
       "      <th>Serial No.</th>\n",
       "      <th>GRE Score</th>\n",
       "      <th>TOEFL Score</th>\n",
       "      <th>University Rating</th>\n",
       "      <th>SOP</th>\n",
       "      <th>LOR</th>\n",
       "      <th>CGPA</th>\n",
       "      <th>Research</th>\n",
       "      <th>Chance of Admit</th>\n",
       "    </tr>\n",
       "  </thead>\n",
       "  <tbody>\n",
       "    <tr>\n",
       "      <th>0</th>\n",
       "      <td>1</td>\n",
       "      <td>337</td>\n",
       "      <td>118</td>\n",
       "      <td>4</td>\n",
       "      <td>4.5</td>\n",
       "      <td>4.5</td>\n",
       "      <td>9.65</td>\n",
       "      <td>1</td>\n",
       "      <td>0.92</td>\n",
       "    </tr>\n",
       "    <tr>\n",
       "      <th>1</th>\n",
       "      <td>2</td>\n",
       "      <td>324</td>\n",
       "      <td>107</td>\n",
       "      <td>4</td>\n",
       "      <td>4.0</td>\n",
       "      <td>4.5</td>\n",
       "      <td>8.87</td>\n",
       "      <td>1</td>\n",
       "      <td>0.76</td>\n",
       "    </tr>\n",
       "    <tr>\n",
       "      <th>2</th>\n",
       "      <td>3</td>\n",
       "      <td>316</td>\n",
       "      <td>104</td>\n",
       "      <td>3</td>\n",
       "      <td>3.0</td>\n",
       "      <td>3.5</td>\n",
       "      <td>8.00</td>\n",
       "      <td>1</td>\n",
       "      <td>0.72</td>\n",
       "    </tr>\n",
       "    <tr>\n",
       "      <th>3</th>\n",
       "      <td>4</td>\n",
       "      <td>322</td>\n",
       "      <td>110</td>\n",
       "      <td>3</td>\n",
       "      <td>3.5</td>\n",
       "      <td>2.5</td>\n",
       "      <td>8.67</td>\n",
       "      <td>1</td>\n",
       "      <td>0.80</td>\n",
       "    </tr>\n",
       "    <tr>\n",
       "      <th>4</th>\n",
       "      <td>5</td>\n",
       "      <td>314</td>\n",
       "      <td>103</td>\n",
       "      <td>2</td>\n",
       "      <td>2.0</td>\n",
       "      <td>3.0</td>\n",
       "      <td>8.21</td>\n",
       "      <td>0</td>\n",
       "      <td>0.65</td>\n",
       "    </tr>\n",
       "    <tr>\n",
       "      <th>5</th>\n",
       "      <td>6</td>\n",
       "      <td>330</td>\n",
       "      <td>115</td>\n",
       "      <td>5</td>\n",
       "      <td>4.5</td>\n",
       "      <td>3.0</td>\n",
       "      <td>9.34</td>\n",
       "      <td>1</td>\n",
       "      <td>0.90</td>\n",
       "    </tr>\n",
       "    <tr>\n",
       "      <th>6</th>\n",
       "      <td>7</td>\n",
       "      <td>321</td>\n",
       "      <td>109</td>\n",
       "      <td>3</td>\n",
       "      <td>3.0</td>\n",
       "      <td>4.0</td>\n",
       "      <td>8.20</td>\n",
       "      <td>1</td>\n",
       "      <td>0.75</td>\n",
       "    </tr>\n",
       "    <tr>\n",
       "      <th>7</th>\n",
       "      <td>8</td>\n",
       "      <td>308</td>\n",
       "      <td>101</td>\n",
       "      <td>2</td>\n",
       "      <td>3.0</td>\n",
       "      <td>4.0</td>\n",
       "      <td>7.90</td>\n",
       "      <td>0</td>\n",
       "      <td>0.68</td>\n",
       "    </tr>\n",
       "    <tr>\n",
       "      <th>8</th>\n",
       "      <td>9</td>\n",
       "      <td>302</td>\n",
       "      <td>102</td>\n",
       "      <td>1</td>\n",
       "      <td>2.0</td>\n",
       "      <td>1.5</td>\n",
       "      <td>8.00</td>\n",
       "      <td>0</td>\n",
       "      <td>0.50</td>\n",
       "    </tr>\n",
       "    <tr>\n",
       "      <th>9</th>\n",
       "      <td>10</td>\n",
       "      <td>323</td>\n",
       "      <td>108</td>\n",
       "      <td>3</td>\n",
       "      <td>3.5</td>\n",
       "      <td>3.0</td>\n",
       "      <td>8.60</td>\n",
       "      <td>0</td>\n",
       "      <td>0.45</td>\n",
       "    </tr>\n",
       "  </tbody>\n",
       "</table>\n",
       "</div>"
      ],
      "text/plain": [
       "   Serial No.  GRE Score  TOEFL Score  University Rating  SOP  LOR   CGPA  \\\n",
       "0           1        337          118                  4  4.5   4.5  9.65   \n",
       "1           2        324          107                  4  4.0   4.5  8.87   \n",
       "2           3        316          104                  3  3.0   3.5  8.00   \n",
       "3           4        322          110                  3  3.5   2.5  8.67   \n",
       "4           5        314          103                  2  2.0   3.0  8.21   \n",
       "5           6        330          115                  5  4.5   3.0  9.34   \n",
       "6           7        321          109                  3  3.0   4.0  8.20   \n",
       "7           8        308          101                  2  3.0   4.0  7.90   \n",
       "8           9        302          102                  1  2.0   1.5  8.00   \n",
       "9          10        323          108                  3  3.5   3.0  8.60   \n",
       "\n",
       "   Research  Chance of Admit   \n",
       "0         1              0.92  \n",
       "1         1              0.76  \n",
       "2         1              0.72  \n",
       "3         1              0.80  \n",
       "4         0              0.65  \n",
       "5         1              0.90  \n",
       "6         1              0.75  \n",
       "7         0              0.68  \n",
       "8         0              0.50  \n",
       "9         0              0.45  "
      ]
     },
     "execution_count": 34,
     "metadata": {},
     "output_type": "execute_result"
    }
   ],
   "source": [
    "data.head(10)"
   ]
  },
  {
   "cell_type": "code",
   "execution_count": 35,
   "id": "77c662e5ecee747d",
   "metadata": {
    "ExecuteTime": {
     "end_time": "2025-05-06T06:35:19.076954Z",
     "start_time": "2025-05-06T06:35:19.066932Z"
    }
   },
   "outputs": [
    {
     "name": "stdout",
     "output_type": "stream",
     "text": [
      "       Serial No.   GRE Score  TOEFL Score  University Rating         SOP  \\\n",
      "count  400.000000  400.000000   400.000000         400.000000  400.000000   \n",
      "mean   200.500000  316.807500   107.410000           3.087500    3.400000   \n",
      "std    115.614301   11.473646     6.069514           1.143728    1.006869   \n",
      "min      1.000000  290.000000    92.000000           1.000000    1.000000   \n",
      "25%    100.750000  308.000000   103.000000           2.000000    2.500000   \n",
      "50%    200.500000  317.000000   107.000000           3.000000    3.500000   \n",
      "75%    300.250000  325.000000   112.000000           4.000000    4.000000   \n",
      "max    400.000000  340.000000   120.000000           5.000000    5.000000   \n",
      "\n",
      "             LOR         CGPA    Research  Chance of Admit   \n",
      "count  400.000000  400.000000  400.000000        400.000000  \n",
      "mean     3.452500    8.598925    0.547500          0.724350  \n",
      "std      0.898478    0.596317    0.498362          0.142609  \n",
      "min      1.000000    6.800000    0.000000          0.340000  \n",
      "25%      3.000000    8.170000    0.000000          0.640000  \n",
      "50%      3.500000    8.610000    1.000000          0.730000  \n",
      "75%      4.000000    9.062500    1.000000          0.830000  \n",
      "max      5.000000    9.920000    1.000000          0.970000  \n"
     ]
    }
   ],
   "source": [
    "print(data.describe())"
   ]
  },
  {
   "cell_type": "code",
   "execution_count": 36,
   "id": "33f52baec59a6f98",
   "metadata": {
    "ExecuteTime": {
     "end_time": "2025-05-06T06:35:19.201944Z",
     "start_time": "2025-05-06T06:35:19.195469Z"
    }
   },
   "outputs": [
    {
     "name": "stdout",
     "output_type": "stream",
     "text": [
      "<class 'pandas.core.frame.DataFrame'>\n",
      "RangeIndex: 400 entries, 0 to 399\n",
      "Data columns (total 9 columns):\n",
      " #   Column             Non-Null Count  Dtype  \n",
      "---  ------             --------------  -----  \n",
      " 0   Serial No.         400 non-null    int64  \n",
      " 1   GRE Score          400 non-null    int64  \n",
      " 2   TOEFL Score        400 non-null    int64  \n",
      " 3   University Rating  400 non-null    int64  \n",
      " 4   SOP                400 non-null    float64\n",
      " 5   LOR                400 non-null    float64\n",
      " 6   CGPA               400 non-null    float64\n",
      " 7   Research           400 non-null    int64  \n",
      " 8   Chance of Admit    400 non-null    float64\n",
      "dtypes: float64(4), int64(5)\n",
      "memory usage: 28.3 KB\n"
     ]
    },
    {
     "data": {
      "text/plain": [
       "None"
      ]
     },
     "metadata": {},
     "output_type": "display_data"
    }
   ],
   "source": [
    "display(data.info())"
   ]
  },
  {
   "cell_type": "code",
   "execution_count": 37,
   "id": "b0bff77a4408b5d2",
   "metadata": {
    "ExecuteTime": {
     "end_time": "2025-05-06T06:35:19.278671Z",
     "start_time": "2025-05-06T06:35:19.270324Z"
    }
   },
   "outputs": [
    {
     "data": {
      "text/html": [
       "<div>\n",
       "<style scoped>\n",
       "    .dataframe tbody tr th:only-of-type {\n",
       "        vertical-align: middle;\n",
       "    }\n",
       "\n",
       "    .dataframe tbody tr th {\n",
       "        vertical-align: top;\n",
       "    }\n",
       "\n",
       "    .dataframe thead th {\n",
       "        text-align: right;\n",
       "    }\n",
       "</style>\n",
       "<table border=\"1\" class=\"dataframe\">\n",
       "  <thead>\n",
       "    <tr style=\"text-align: right;\">\n",
       "      <th></th>\n",
       "      <th>Serial No.</th>\n",
       "      <th>GRE Score</th>\n",
       "      <th>TOEFL Score</th>\n",
       "      <th>University Rating</th>\n",
       "      <th>SOP</th>\n",
       "      <th>LOR</th>\n",
       "      <th>CGPA</th>\n",
       "      <th>Research</th>\n",
       "      <th>Chance of Admit</th>\n",
       "    </tr>\n",
       "  </thead>\n",
       "  <tbody>\n",
       "  </tbody>\n",
       "</table>\n",
       "</div>"
      ],
      "text/plain": [
       "Empty DataFrame\n",
       "Columns: [Serial No., GRE Score, TOEFL Score, University Rating, SOP, LOR , CGPA, Research, Chance of Admit ]\n",
       "Index: []"
      ]
     },
     "metadata": {},
     "output_type": "display_data"
    }
   ],
   "source": [
    "duplicated_values = data[data.duplicated()]\n",
    "display(duplicated_values)"
   ]
  },
  {
   "cell_type": "code",
   "execution_count": 38,
   "id": "97df1aa6-3361-4723-9d72-15b0aa35d555",
   "metadata": {},
   "outputs": [],
   "source": [
    "data.drop(columns=['Serial No.'], inplace=True) \n",
    "# Column that will not contribute to the model."
   ]
  },
  {
   "cell_type": "code",
   "execution_count": 39,
   "id": "59865a00-4f05-4ded-a36e-0b26d5a29a59",
   "metadata": {},
   "outputs": [],
   "source": [
    "data.columns = ['GRE', 'TOEFL', 'University_Rating', 'SOP', 'LOR', 'CGPA', 'Research', 'Chance_of_Admit']"
   ]
  },
  {
   "cell_type": "code",
   "execution_count": 40,
   "id": "c0766dc2bdd9ae0a",
   "metadata": {
    "ExecuteTime": {
     "end_time": "2025-05-06T06:35:19.388527Z",
     "start_time": "2025-05-06T06:35:19.383816Z"
    }
   },
   "outputs": [
    {
     "name": "stdout",
     "output_type": "stream",
     "text": [
      "<class 'pandas.core.frame.DataFrame'>\n",
      "RangeIndex: 400 entries, 0 to 399\n",
      "Data columns (total 8 columns):\n",
      " #   Column             Non-Null Count  Dtype  \n",
      "---  ------             --------------  -----  \n",
      " 0   GRE                400 non-null    int64  \n",
      " 1   TOEFL              400 non-null    int64  \n",
      " 2   University_Rating  400 non-null    int64  \n",
      " 3   SOP                400 non-null    float64\n",
      " 4   LOR                400 non-null    float64\n",
      " 5   CGPA               400 non-null    float64\n",
      " 6   Research           400 non-null    int64  \n",
      " 7   Chance_of_Admit    400 non-null    float64\n",
      "dtypes: float64(4), int64(4)\n",
      "memory usage: 25.1 KB\n"
     ]
    }
   ],
   "source": [
    "data.info()"
   ]
  },
  {
   "cell_type": "markdown",
   "id": "f8a148d6-0281-4eed-8191-59bc18fc3f67",
   "metadata": {},
   "source": [
    "## 📊 Let's Start to Plot Our Features. "
   ]
  },
  {
   "cell_type": "code",
   "execution_count": 41,
   "id": "6084ef21-d508-44ce-9581-9b007cf85bc8",
   "metadata": {},
   "outputs": [],
   "source": [
    "import plotly.express as px\n",
    "import plotly.graph_objects as go\n",
    "import plotly.figure_factory as ff\n",
    "from scipy.stats import gaussian_kde"
   ]
  },
  {
   "cell_type": "code",
   "execution_count": 42,
   "id": "4095f343-e959-479d-83aa-fd1a748345cd",
   "metadata": {},
   "outputs": [
    {
     "data": {
      "text/html": [
       "<iframe\n",
       "    scrolling=\"no\"\n",
       "    width=\"100%\"\n",
       "    height=\"545px\"\n",
       "    src=\"iframe_figures/figure_42.html\"\n",
       "    frameborder=\"0\"\n",
       "    allowfullscreen\n",
       "></iframe>\n"
      ]
     },
     "metadata": {},
     "output_type": "display_data"
    }
   ],
   "source": [
    "fig = px.histogram(data, x='GRE', nbins=40, title='Distribution of GRE Scores')\n",
    "fig.update_layout(bargap=0.2,template='plotly_dark', yaxis_title='Number of Students')\n",
    "fig.show(renderer='iframe')"
   ]
  },
  {
   "cell_type": "code",
   "execution_count": 43,
   "id": "98cb03ea-07de-43ea-b7a1-a5a7c61a0d57",
   "metadata": {},
   "outputs": [
    {
     "data": {
      "text/html": [
       "<iframe\n",
       "    scrolling=\"no\"\n",
       "    width=\"100%\"\n",
       "    height=\"545px\"\n",
       "    src=\"iframe_figures/figure_43.html\"\n",
       "    frameborder=\"0\"\n",
       "    allowfullscreen\n",
       "></iframe>\n"
      ]
     },
     "metadata": {},
     "output_type": "display_data"
    }
   ],
   "source": [
    "fig = px.histogram(data, x='CGPA', nbins=20, marginal=\"violin\", histnorm='probability density', title='CGPA Distribution')\n",
    "\n",
    "x = data['CGPA']\n",
    "\n",
    "kde = gaussian_kde(x)\n",
    "\n",
    "x_range = np.linspace(x.min(), x.max(), 100)\n",
    "\n",
    "kde_values = kde(x_range)\n",
    "\n",
    "# Add KDE to the same figure\n",
    "fig.add_trace(go.Scatter(x=x_range, y=kde_values, mode='lines', name='KDE'))\n",
    "\n",
    "\n",
    "fig.update_layout(bargap=0.2 ,template='plotly_dark', yaxis_title='Number of Students')\n",
    "fig.show(renderer='iframe')"
   ]
  },
  {
   "cell_type": "markdown",
   "id": "1cea0b3d-0b21-466d-8333-8a803ffaa4bb",
   "metadata": {},
   "source": [
    "📌 A little left skewed graph. Most of the applicant scoring >= 8.5"
   ]
  },
  {
   "cell_type": "code",
   "execution_count": 44,
   "id": "fde0947d-5a47-4526-9aa8-00e79857cc02",
   "metadata": {},
   "outputs": [
    {
     "data": {
      "text/html": [
       "<div>\n",
       "<style scoped>\n",
       "    .dataframe tbody tr th:only-of-type {\n",
       "        vertical-align: middle;\n",
       "    }\n",
       "\n",
       "    .dataframe tbody tr th {\n",
       "        vertical-align: top;\n",
       "    }\n",
       "\n",
       "    .dataframe thead th {\n",
       "        text-align: right;\n",
       "    }\n",
       "</style>\n",
       "<table border=\"1\" class=\"dataframe\">\n",
       "  <thead>\n",
       "    <tr style=\"text-align: right;\">\n",
       "      <th></th>\n",
       "      <th>University_Rating</th>\n",
       "      <th>count</th>\n",
       "    </tr>\n",
       "  </thead>\n",
       "  <tbody>\n",
       "    <tr>\n",
       "      <th>0</th>\n",
       "      <td>1</td>\n",
       "      <td>26</td>\n",
       "    </tr>\n",
       "    <tr>\n",
       "      <th>1</th>\n",
       "      <td>2</td>\n",
       "      <td>107</td>\n",
       "    </tr>\n",
       "    <tr>\n",
       "      <th>2</th>\n",
       "      <td>3</td>\n",
       "      <td>133</td>\n",
       "    </tr>\n",
       "    <tr>\n",
       "      <th>3</th>\n",
       "      <td>4</td>\n",
       "      <td>74</td>\n",
       "    </tr>\n",
       "    <tr>\n",
       "      <th>4</th>\n",
       "      <td>5</td>\n",
       "      <td>60</td>\n",
       "    </tr>\n",
       "  </tbody>\n",
       "</table>\n",
       "</div>"
      ],
      "text/plain": [
       "   University_Rating  count\n",
       "0                  1     26\n",
       "1                  2    107\n",
       "2                  3    133\n",
       "3                  4     74\n",
       "4                  5     60"
      ]
     },
     "metadata": {},
     "output_type": "display_data"
    }
   ],
   "source": [
    "University_Rating_Matrix = data['University_Rating'].value_counts().sort_index().reset_index()\n",
    "display(University_Rating_Matrix)"
   ]
  },
  {
   "cell_type": "code",
   "execution_count": 45,
   "id": "e31843a8-7c16-4ff1-b19e-717ebfcf86cb",
   "metadata": {},
   "outputs": [
    {
     "data": {
      "text/html": [
       "<iframe\n",
       "    scrolling=\"no\"\n",
       "    width=\"100%\"\n",
       "    height=\"545px\"\n",
       "    src=\"iframe_figures/figure_45.html\"\n",
       "    frameborder=\"0\"\n",
       "    allowfullscreen\n",
       "></iframe>\n"
      ]
     },
     "metadata": {},
     "output_type": "display_data"
    }
   ],
   "source": [
    "fig = px.bar(University_Rating_Matrix,y='count', x='University_Rating', title='University Rating Distribution')\n",
    "fig.update_layout(template='plotly_dark',yaxis_title='Number of applicants')\n",
    "fig.show(renderer='iframe')"
   ]
  },
  {
   "cell_type": "code",
   "execution_count": 46,
   "id": "ece5563d-62bc-4830-8f8c-c25fbfda622a",
   "metadata": {},
   "outputs": [
    {
     "data": {
      "text/html": [
       "<iframe\n",
       "    scrolling=\"no\"\n",
       "    width=\"100%\"\n",
       "    height=\"545px\"\n",
       "    src=\"iframe_figures/figure_46.html\"\n",
       "    frameborder=\"0\"\n",
       "    allowfullscreen\n",
       "></iframe>\n"
      ]
     },
     "metadata": {},
     "output_type": "display_data"
    }
   ],
   "source": [
    "fig = px.scatter(data, x='GRE', y='Chance_of_Admit', color = 'University_Rating', trendline='ols', \n",
    "                 title= 'GRE vs Chance of Admit (Colored by University Rating)')\n",
    "fig.update_layout(template='plotly_dark')\n",
    "fig.show(renderer = 'iframe')\n"
   ]
  },
  {
   "cell_type": "code",
   "execution_count": 47,
   "id": "cb090b0b-a3ea-4cf4-ae3d-3ee3d43e0fc2",
   "metadata": {},
   "outputs": [
    {
     "data": {
      "text/html": [
       "<iframe\n",
       "    scrolling=\"no\"\n",
       "    width=\"100%\"\n",
       "    height=\"545px\"\n",
       "    src=\"iframe_figures/figure_47.html\"\n",
       "    frameborder=\"0\"\n",
       "    allowfullscreen\n",
       "></iframe>\n"
      ]
     },
     "metadata": {},
     "output_type": "display_data"
    }
   ],
   "source": [
    "fig = px.scatter(data, x='CGPA', y='Chance_of_Admit', color = 'Research', trendline='ols', \n",
    "                 title= 'CGPA vs Chance of Admit (Colored by Research)')\n",
    "fig.update_layout(template='plotly_dark')\n",
    "fig.show(renderer = 'iframe')\n"
   ]
  },
  {
   "cell_type": "code",
   "execution_count": 48,
   "id": "bbaa6f64-e598-4151-b6c3-ed660260fc10",
   "metadata": {},
   "outputs": [
    {
     "data": {
      "text/html": [
       "<iframe\n",
       "    scrolling=\"no\"\n",
       "    width=\"100%\"\n",
       "    height=\"545px\"\n",
       "    src=\"iframe_figures/figure_48.html\"\n",
       "    frameborder=\"0\"\n",
       "    allowfullscreen\n",
       "></iframe>\n"
      ]
     },
     "metadata": {},
     "output_type": "display_data"
    }
   ],
   "source": [
    "fig = px.box(data, x=\"Research\", y=\"Chance_of_Admit\", title=\"Chance of Admit by Research Experience\")\n",
    "fig.update_layout(template='plotly_dark')\n",
    "fig.show(renderer='iframe')"
   ]
  },
  {
   "cell_type": "code",
   "execution_count": 49,
   "id": "66a04191-aeba-438a-99f1-539289992d13",
   "metadata": {},
   "outputs": [
    {
     "data": {
      "text/html": [
       "<iframe\n",
       "    scrolling=\"no\"\n",
       "    width=\"100%\"\n",
       "    height=\"545px\"\n",
       "    src=\"iframe_figures/figure_49.html\"\n",
       "    frameborder=\"0\"\n",
       "    allowfullscreen\n",
       "></iframe>\n"
      ]
     },
     "metadata": {},
     "output_type": "display_data"
    }
   ],
   "source": [
    "correlation = data.corr().round(2)\n",
    "\n",
    "fig = go.Figure(data=go.Heatmap(\n",
    "    z=correlation.values,\n",
    "    x=correlation.columns,\n",
    "    y=correlation.columns,\n",
    "    colorscale='Cividis',\n",
    "    text=correlation.values,\n",
    "    texttemplate=\"%{text}\"\n",
    "))\n",
    "fig.update_layout(title='Correlation Heatmap',template='plotly_dark')\n",
    "fig.show(renderer='iframe')"
   ]
  },
  {
   "cell_type": "code",
   "execution_count": 50,
   "id": "0da1c513-b506-493f-ac94-ed29d1d0ea77",
   "metadata": {},
   "outputs": [
    {
     "data": {
      "text/html": [
       "<iframe\n",
       "    scrolling=\"no\"\n",
       "    width=\"100%\"\n",
       "    height=\"545px\"\n",
       "    src=\"iframe_figures/figure_50.html\"\n",
       "    frameborder=\"0\"\n",
       "    allowfullscreen\n",
       "></iframe>\n"
      ]
     },
     "metadata": {},
     "output_type": "display_data"
    }
   ],
   "source": [
    "fig = px.scatter(data, x='SOP', y='Chance_of_Admit', size='LOR', color='LOR',\n",
    "                 title='SOP vs Chance of Admit (Bubble Size = LOR Strength)')\n",
    "fig.update_layout(template='plotly_dark')\n",
    "fig.show(renderer='iframe')"
   ]
  },
  {
   "cell_type": "markdown",
   "id": "f367f59e-68c0-46cd-8b8e-1d96b9ea89a8",
   "metadata": {},
   "source": [
    "📌 When SOR and LOR get's higher Chance of Admit get's higher too. Tip for feature engineering."
   ]
  },
  {
   "cell_type": "markdown",
   "id": "edfee7c5-daf7-4cc5-aead-25dc0d4e4ded",
   "metadata": {},
   "source": [
    "### **Let's Predict the chances of Admission**"
   ]
  },
  {
   "cell_type": "code",
   "execution_count": 51,
   "id": "dcad3a662281d8b0",
   "metadata": {
    "ExecuteTime": {
     "end_time": "2025-05-06T06:35:19.414838Z",
     "start_time": "2025-05-06T06:35:19.411709Z"
    }
   },
   "outputs": [],
   "source": [
    "X = data.drop(columns=['Chance_of_Admit']) \n",
    "y = data['Chance_of_Admit'] "
   ]
  },
  {
   "cell_type": "code",
   "execution_count": 52,
   "id": "31ef3d68bdb6a6c",
   "metadata": {
    "ExecuteTime": {
     "end_time": "2025-05-06T06:35:19.441839Z",
     "start_time": "2025-05-06T06:35:19.437035Z"
    }
   },
   "outputs": [],
   "source": [
    "from sklearn.model_selection import train_test_split\n",
    "from sklearn.preprocessing import StandardScaler\n",
    "\n",
    "X_train, X_test, y_train, y_test = train_test_split(X, y, test_size=0.2, random_state=42)\n",
    "\n",
    "# Feature Scaling.\n",
    "sc = StandardScaler()\n",
    "X_train_scaled = sc.fit_transform(X_train)\n",
    "X_test_scaled = sc.transform(X_test)"
   ]
  },
  {
   "cell_type": "code",
   "execution_count": 53,
   "id": "7f585aff971e7077",
   "metadata": {
    "ExecuteTime": {
     "end_time": "2025-05-06T06:35:19.460985Z",
     "start_time": "2025-05-06T06:35:19.456792Z"
    }
   },
   "outputs": [],
   "source": [
    "from sklearn.linear_model import LinearRegression, Ridge, Lasso, ElasticNet, LogisticRegression\n",
    "from sklearn.tree import DecisionTreeRegressor\n",
    "from sklearn.ensemble import RandomForestRegressor, GradientBoostingRegressor, AdaBoostRegressor, BaggingRegressor\n",
    "from sklearn.svm import SVR\n",
    "from sklearn.neighbors import KNeighborsRegressor\n",
    "from sklearn.metrics import r2_score, mean_squared_error\n",
    "from sklearn.model_selection import GridSearchCV"
   ]
  },
  {
   "cell_type": "code",
   "execution_count": 54,
   "id": "3a8867b9-b3b7-49f8-b02a-8d5d2a1b1e3f",
   "metadata": {},
   "outputs": [],
   "source": [
    "models = {\n",
    "    'Linear Regression': LinearRegression(),\n",
    "    'Ridge Regression': Ridge(),\n",
    "    'Lasso Regression': Lasso(),\n",
    "    'ElasticNet': ElasticNet(),\n",
    "    'Decision Tree': DecisionTreeRegressor(),\n",
    "    'Random Forest': RandomForestRegressor(),\n",
    "    'Gradient Boosting': GradientBoostingRegressor(),\n",
    "    'AdaBoost': AdaBoostRegressor(),\n",
    "    'Bagging': BaggingRegressor(),\n",
    "    'Support Vector Regressor': SVR(),\n",
    "    'K-Nearest Neighbors': KNeighborsRegressor()\n",
    "}\n",
    "\n",
    "# Function to evaluate all regression models\n",
    "def evaluate_models(X_train, X_test, y_train, y_test):\n",
    "    results = []\n",
    "    for name, model in models.items():\n",
    "        model.fit(X_train, y_train)\n",
    "        y_pred = model.predict(X_test)\n",
    "        r2 = r2_score(y_test, y_pred)\n",
    "        rmse = mean_squared_error(y_test, y_pred)\n",
    "        results.append((name, r2, rmse))\n",
    "    \n",
    "    # Sort by R² score (higher is better)\n",
    "    results.sort(key=lambda x: x[1], reverse=True)\n",
    "    return results\n",
    "        \n"
   ]
  },
  {
   "cell_type": "code",
   "execution_count": null,
   "id": "9a9c5b09-fe8e-4110-bb77-da9be86298c8",
   "metadata": {},
   "outputs": [],
   "source": []
  },
  {
   "cell_type": "code",
   "execution_count": 55,
   "id": "2e0bce41-5c06-44be-a460-0e33203b1002",
   "metadata": {},
   "outputs": [
    {
     "name": "stdout",
     "output_type": "stream",
     "text": [
      "Model Performance: \n",
      "\n",
      "Linear Regression: R² = 0.82120826, RMSE = 0.0046\n",
      "Ridge Regression: R² = 0.82091917, RMSE = 0.0046\n",
      "Random Forest: R² = 0.80462175, RMSE = 0.0050\n",
      "Gradient Boosting: R² = 0.79734937, RMSE = 0.0052\n",
      "AdaBoost: R² = 0.77546152, RMSE = 0.0058\n",
      "Bagging: R² = 0.77226336, RMSE = 0.0059\n",
      "Support Vector Regressor: R² = 0.75978148, RMSE = 0.0062\n",
      "K-Nearest Neighbors: R² = 0.75603290, RMSE = 0.0063\n",
      "Decision Tree: R² = 0.60442792, RMSE = 0.0102\n",
      "Lasso Regression: R² = -0.00083958, RMSE = 0.0258\n",
      "ElasticNet: R² = -0.00083958, RMSE = 0.0258\n"
     ]
    }
   ],
   "source": [
    "results = evaluate_models(X_train_scaled, X_test_scaled, y_train, y_test)\n",
    "\n",
    "# Print performance via all models\n",
    "\n",
    "print(\"Model Performance: \\n\")\n",
    "for name, r2, rmse in results:\n",
    "    print(f\"{name}: R² = {r2:.8f}, RMSE = {rmse:.4f}\")"
   ]
  },
  {
   "cell_type": "code",
   "execution_count": null,
   "id": "1a061532-3483-4476-bab3-fdafc3485a32",
   "metadata": {},
   "outputs": [],
   "source": []
  },
  {
   "cell_type": "markdown",
   "id": "397f65aa-7d0a-412c-b30b-1dbac0bee9ad",
   "metadata": {},
   "source": [
    "### After compare models performance we will go back to LogisticRegression. From above we can clearly see that Linear is better. "
   ]
  },
  {
   "cell_type": "code",
   "execution_count": 56,
   "id": "321d7c31-5490-431c-926c-67b391047e04",
   "metadata": {},
   "outputs": [],
   "source": [
    "# We are adjust thresh hold 0.8 so that out Logistic Model can predict. \n",
    "threshold = 0.8\n",
    "data['Chance_of_Admit_Binary'] = (data['Chance_of_Admit'] >= threshold).astype(int)\n",
    "\n",
    "data.drop(['Chance_of_Admit'], axis=1, inplace=True)\n",
    "\n",
    "X = data.drop(['Chance_of_Admit_Binary'], axis=1)\n",
    "y = data['Chance_of_Admit_Binary']\n",
    "X_train, X_test, y_train, y_test = train_test_split(X, y, test_size=0.2, random_state=42)\n",
    "\n",
    "# Feature Scaling.\n",
    "sc = StandardScaler()\n",
    "X_train_scaled = sc.fit_transform(X_train)\n",
    "X_test_scaled = sc.transform(X_test)\n",
    "\n",
    "#\n",
    "model = LogisticRegression(max_iter= 1000)\n",
    "model.fit(X_train_scaled, y_train.values.ravel())\n",
    "y_pred = model.predict(X_test_scaled)\n",
    "\n"
   ]
  },
  {
   "cell_type": "code",
   "execution_count": 57,
   "id": "67f812093048ba1f",
   "metadata": {
    "ExecuteTime": {
     "end_time": "2025-05-06T06:35:19.481148Z",
     "start_time": "2025-05-06T06:35:19.474073Z"
    }
   },
   "outputs": [
    {
     "name": "stdout",
     "output_type": "stream",
     "text": [
      "===== Accuracy: =====\n",
      "0.9625\n",
      "\n",
      "===== Classification report: ======\n",
      "              precision    recall  f1-score   support\n",
      "\n",
      "           0       0.98      0.96      0.97        51\n",
      "           1       0.93      0.97      0.95        29\n",
      "\n",
      "    accuracy                           0.96        80\n",
      "   macro avg       0.96      0.96      0.96        80\n",
      "weighted avg       0.96      0.96      0.96        80\n",
      "\n",
      "\n",
      "Confusion matrix: \n",
      "[[49  2]\n",
      " [ 1 28]]\n"
     ]
    }
   ],
   "source": [
    "from sklearn.metrics import confusion_matrix, accuracy_score, classification_report\n",
    "\n",
    "# Model Performance Evaluation \n",
    "\n",
    "accuracy = accuracy_score(y_test, y_pred)\n",
    "\n",
    "classification_report = classification_report(y_test, y_pred)\n",
    "\n",
    "confusion_matrix = confusion_matrix(y_test, y_pred)\n",
    "\n",
    "print(f\"===== Accuracy: =====\\n{accuracy}\\n\")\n",
    "print(f\"===== Classification report: ======\\n{classification_report}\\n\")\n",
    "print(f\"Confusion matrix: \\n{confusion_matrix}\")"
   ]
  },
  {
   "cell_type": "code",
   "execution_count": 58,
   "id": "5e16b8fb8444cf97",
   "metadata": {
    "ExecuteTime": {
     "end_time": "2025-05-06T06:35:19.497315Z",
     "start_time": "2025-05-06T06:35:19.494841Z"
    }
   },
   "outputs": [
    {
     "name": "stdout",
     "output_type": "stream",
     "text": [
      "Imbalance Ratio: 2.125\n"
     ]
    }
   ],
   "source": [
    "count_of_target_variable = data['Chance_of_Admit_Binary'].value_counts()\n",
    "\n",
    "imbalance_ratio_tvariable = count_of_target_variable.max() / count_of_target_variable.min()\n",
    "\n",
    "print(f\"Imbalance Ratio: {imbalance_ratio_tvariable}\") # Is it imbalanced ? Yes."
   ]
  },
  {
   "cell_type": "code",
   "execution_count": 59,
   "id": "ba930f43e08d0010",
   "metadata": {
    "ExecuteTime": {
     "end_time": "2025-05-06T06:35:19.515263Z",
     "start_time": "2025-05-06T06:35:19.510679Z"
    }
   },
   "outputs": [
    {
     "data": {
      "text/html": [
       "<div>\n",
       "<style scoped>\n",
       "    .dataframe tbody tr th:only-of-type {\n",
       "        vertical-align: middle;\n",
       "    }\n",
       "\n",
       "    .dataframe tbody tr th {\n",
       "        vertical-align: top;\n",
       "    }\n",
       "\n",
       "    .dataframe thead th {\n",
       "        text-align: right;\n",
       "    }\n",
       "</style>\n",
       "<table border=\"1\" class=\"dataframe\">\n",
       "  <thead>\n",
       "    <tr style=\"text-align: right;\">\n",
       "      <th></th>\n",
       "      <th>Real Value</th>\n",
       "      <th>Predicted Probability</th>\n",
       "      <th>Prediction:</th>\n",
       "    </tr>\n",
       "  </thead>\n",
       "  <tbody>\n",
       "    <tr>\n",
       "      <th>209</th>\n",
       "      <td>0</td>\n",
       "      <td>0.0058</td>\n",
       "      <td>0</td>\n",
       "    </tr>\n",
       "    <tr>\n",
       "      <th>280</th>\n",
       "      <td>0</td>\n",
       "      <td>0.0503</td>\n",
       "      <td>0</td>\n",
       "    </tr>\n",
       "    <tr>\n",
       "      <th>33</th>\n",
       "      <td>1</td>\n",
       "      <td>0.9941</td>\n",
       "      <td>1</td>\n",
       "    </tr>\n",
       "    <tr>\n",
       "      <th>210</th>\n",
       "      <td>0</td>\n",
       "      <td>0.7011</td>\n",
       "      <td>1</td>\n",
       "    </tr>\n",
       "    <tr>\n",
       "      <th>93</th>\n",
       "      <td>0</td>\n",
       "      <td>0.0004</td>\n",
       "      <td>0</td>\n",
       "    </tr>\n",
       "    <tr>\n",
       "      <th>84</th>\n",
       "      <td>1</td>\n",
       "      <td>0.9920</td>\n",
       "      <td>1</td>\n",
       "    </tr>\n",
       "    <tr>\n",
       "      <th>329</th>\n",
       "      <td>0</td>\n",
       "      <td>0.0001</td>\n",
       "      <td>0</td>\n",
       "    </tr>\n",
       "    <tr>\n",
       "      <th>94</th>\n",
       "      <td>0</td>\n",
       "      <td>0.0001</td>\n",
       "      <td>0</td>\n",
       "    </tr>\n",
       "    <tr>\n",
       "      <th>266</th>\n",
       "      <td>0</td>\n",
       "      <td>0.0060</td>\n",
       "      <td>0</td>\n",
       "    </tr>\n",
       "    <tr>\n",
       "      <th>126</th>\n",
       "      <td>1</td>\n",
       "      <td>0.8839</td>\n",
       "      <td>1</td>\n",
       "    </tr>\n",
       "    <tr>\n",
       "      <th>9</th>\n",
       "      <td>0</td>\n",
       "      <td>0.0535</td>\n",
       "      <td>0</td>\n",
       "    </tr>\n",
       "    <tr>\n",
       "      <th>361</th>\n",
       "      <td>1</td>\n",
       "      <td>0.9884</td>\n",
       "      <td>1</td>\n",
       "    </tr>\n",
       "    <tr>\n",
       "      <th>56</th>\n",
       "      <td>0</td>\n",
       "      <td>0.0001</td>\n",
       "      <td>0</td>\n",
       "    </tr>\n",
       "    <tr>\n",
       "      <th>72</th>\n",
       "      <td>1</td>\n",
       "      <td>0.9607</td>\n",
       "      <td>1</td>\n",
       "    </tr>\n",
       "    <tr>\n",
       "      <th>132</th>\n",
       "      <td>0</td>\n",
       "      <td>0.0316</td>\n",
       "      <td>0</td>\n",
       "    </tr>\n",
       "    <tr>\n",
       "      <th>42</th>\n",
       "      <td>0</td>\n",
       "      <td>0.0366</td>\n",
       "      <td>0</td>\n",
       "    </tr>\n",
       "    <tr>\n",
       "      <th>278</th>\n",
       "      <td>0</td>\n",
       "      <td>0.0048</td>\n",
       "      <td>0</td>\n",
       "    </tr>\n",
       "    <tr>\n",
       "      <th>376</th>\n",
       "      <td>0</td>\n",
       "      <td>0.0000</td>\n",
       "      <td>0</td>\n",
       "    </tr>\n",
       "    <tr>\n",
       "      <th>231</th>\n",
       "      <td>0</td>\n",
       "      <td>0.0380</td>\n",
       "      <td>0</td>\n",
       "    </tr>\n",
       "    <tr>\n",
       "      <th>385</th>\n",
       "      <td>1</td>\n",
       "      <td>0.9983</td>\n",
       "      <td>1</td>\n",
       "    </tr>\n",
       "  </tbody>\n",
       "</table>\n",
       "</div>"
      ],
      "text/plain": [
       "     Real Value  Predicted Probability  Prediction: \n",
       "209           0                 0.0058             0\n",
       "280           0                 0.0503             0\n",
       "33            1                 0.9941             1\n",
       "210           0                 0.7011             1\n",
       "93            0                 0.0004             0\n",
       "84            1                 0.9920             1\n",
       "329           0                 0.0001             0\n",
       "94            0                 0.0001             0\n",
       "266           0                 0.0060             0\n",
       "126           1                 0.8839             1\n",
       "9             0                 0.0535             0\n",
       "361           1                 0.9884             1\n",
       "56            0                 0.0001             0\n",
       "72            1                 0.9607             1\n",
       "132           0                 0.0316             0\n",
       "42            0                 0.0366             0\n",
       "278           0                 0.0048             0\n",
       "376           0                 0.0000             0\n",
       "231           0                 0.0380             0\n",
       "385           1                 0.9983             1"
      ]
     },
     "metadata": {},
     "output_type": "display_data"
    }
   ],
   "source": [
    "y_pred_probability = model.predict_proba(X_test_scaled)[:, 1] \n",
    "\n",
    "results_df = pd.DataFrame({\n",
    "    \"Real Value\" : y_test, \n",
    "    \"Predicted Probability\" : y_pred_probability.round(4), \n",
    "    \"Prediction: \" : y_pred \n",
    "})\n",
    "\n",
    "display(results_df.head(20))"
   ]
  },
  {
   "cell_type": "code",
   "execution_count": 60,
   "id": "a026a6becefe7efa",
   "metadata": {
    "ExecuteTime": {
     "end_time": "2025-05-06T06:35:19.534452Z",
     "start_time": "2025-05-06T06:35:19.528597Z"
    }
   },
   "outputs": [
    {
     "name": "stdout",
     "output_type": "stream",
     "text": [
      "-- Epoch 1\n",
      "Norm: 40.84, NNZs: 7, Bias: -35.963079, T: 320, Avg. loss: 2.993249\n",
      "Total training time: 0.00 seconds.\n",
      "-- Epoch 2\n",
      "Norm: 43.73, NNZs: 7, Bias: -20.532778, T: 640, Avg. loss: 2.276232\n",
      "Total training time: 0.00 seconds.\n",
      "-- Epoch 3\n",
      "Norm: 36.86, NNZs: 7, Bias: -22.294944, T: 960, Avg. loss: 1.683111\n",
      "Total training time: 0.00 seconds.\n",
      "-- Epoch 4\n",
      "Norm: 30.97, NNZs: 7, Bias: -27.559900, T: 1280, Avg. loss: 1.377582\n",
      "Total training time: 0.00 seconds.\n",
      "-- Epoch 5\n",
      "Norm: 25.22, NNZs: 7, Bias: -22.065119, T: 1600, Avg. loss: 1.450923\n",
      "Total training time: 0.00 seconds.\n",
      "-- Epoch 6\n",
      "Norm: 28.27, NNZs: 7, Bias: -12.800063, T: 1920, Avg. loss: 1.225572\n",
      "Total training time: 0.00 seconds.\n",
      "-- Epoch 7\n",
      "Norm: 19.77, NNZs: 7, Bias: -17.651917, T: 2240, Avg. loss: 1.216840\n",
      "Total training time: 0.00 seconds.\n",
      "-- Epoch 8\n",
      "Norm: 18.28, NNZs: 7, Bias: -18.211306, T: 2560, Avg. loss: 0.848212\n",
      "Total training time: 0.00 seconds.\n",
      "-- Epoch 9\n",
      "Norm: 13.63, NNZs: 7, Bias: -16.409676, T: 2880, Avg. loss: 0.903176\n",
      "Total training time: 0.00 seconds.\n",
      "-- Epoch 10\n",
      "Norm: 11.39, NNZs: 7, Bias: -15.015393, T: 3200, Avg. loss: 0.851499\n",
      "Total training time: 0.00 seconds.\n",
      "-- Epoch 11\n",
      "Norm: 14.07, NNZs: 7, Bias: -6.113239, T: 3520, Avg. loss: 0.670538\n",
      "Total training time: 0.00 seconds.\n",
      "-- Epoch 12\n",
      "Norm: 12.67, NNZs: 7, Bias: -7.198541, T: 3840, Avg. loss: 0.515069\n",
      "Total training time: 0.00 seconds.\n",
      "-- Epoch 13\n",
      "Norm: 11.04, NNZs: 7, Bias: -13.430347, T: 4160, Avg. loss: 0.576650\n",
      "Total training time: 0.00 seconds.\n",
      "-- Epoch 14\n",
      "Norm: 9.93, NNZs: 7, Bias: -9.434790, T: 4480, Avg. loss: 0.557053\n",
      "Total training time: 0.00 seconds.\n",
      "-- Epoch 15\n",
      "Norm: 11.46, NNZs: 7, Bias: -6.109299, T: 4800, Avg. loss: 0.578615\n",
      "Total training time: 0.00 seconds.\n",
      "-- Epoch 16\n",
      "Norm: 11.38, NNZs: 7, Bias: -9.078796, T: 5120, Avg. loss: 0.462055\n",
      "Total training time: 0.00 seconds.\n",
      "-- Epoch 17\n",
      "Norm: 12.15, NNZs: 7, Bias: -5.798223, T: 5440, Avg. loss: 0.504552\n",
      "Total training time: 0.00 seconds.\n",
      "-- Epoch 18\n",
      "Norm: 7.79, NNZs: 7, Bias: -8.662264, T: 5760, Avg. loss: 0.497976\n",
      "Total training time: 0.00 seconds.\n",
      "-- Epoch 19\n",
      "Norm: 10.57, NNZs: 7, Bias: -7.637724, T: 6080, Avg. loss: 0.453100\n",
      "Total training time: 0.00 seconds.\n",
      "-- Epoch 20\n",
      "Norm: 9.16, NNZs: 7, Bias: -5.495128, T: 6400, Avg. loss: 0.456232\n",
      "Total training time: 0.00 seconds.\n",
      "-- Epoch 21\n",
      "Norm: 9.05, NNZs: 7, Bias: -5.550744, T: 6720, Avg. loss: 0.414583\n",
      "Total training time: 0.00 seconds.\n",
      "-- Epoch 22\n",
      "Norm: 8.24, NNZs: 7, Bias: -6.402069, T: 7040, Avg. loss: 0.402958\n",
      "Total training time: 0.00 seconds.\n",
      "-- Epoch 23\n",
      "Norm: 5.82, NNZs: 7, Bias: -6.397744, T: 7360, Avg. loss: 0.428586\n",
      "Total training time: 0.00 seconds.\n",
      "-- Epoch 24\n",
      "Norm: 7.26, NNZs: 7, Bias: -3.219898, T: 7680, Avg. loss: 0.365392\n",
      "Total training time: 0.00 seconds.\n",
      "-- Epoch 25\n",
      "Norm: 5.88, NNZs: 7, Bias: -7.744801, T: 8000, Avg. loss: 0.340874\n",
      "Total training time: 0.00 seconds.\n",
      "-- Epoch 26\n",
      "Norm: 6.74, NNZs: 7, Bias: -3.453340, T: 8320, Avg. loss: 0.391018\n",
      "Total training time: 0.00 seconds.\n",
      "-- Epoch 27\n",
      "Norm: 6.14, NNZs: 7, Bias: -5.193401, T: 8640, Avg. loss: 0.323757\n",
      "Total training time: 0.00 seconds.\n",
      "-- Epoch 28\n",
      "Norm: 6.44, NNZs: 7, Bias: -5.367012, T: 8960, Avg. loss: 0.334107\n",
      "Total training time: 0.00 seconds.\n",
      "-- Epoch 29\n",
      "Norm: 6.92, NNZs: 7, Bias: -4.719678, T: 9280, Avg. loss: 0.307015\n",
      "Total training time: 0.00 seconds.\n",
      "-- Epoch 30\n",
      "Norm: 6.46, NNZs: 7, Bias: -4.602090, T: 9600, Avg. loss: 0.333892\n",
      "Total training time: 0.00 seconds.\n",
      "-- Epoch 31\n",
      "Norm: 6.41, NNZs: 7, Bias: -5.225212, T: 9920, Avg. loss: 0.332668\n",
      "Total training time: 0.00 seconds.\n",
      "-- Epoch 32\n",
      "Norm: 5.73, NNZs: 7, Bias: -5.649598, T: 10240, Avg. loss: 0.341765\n",
      "Total training time: 0.00 seconds.\n",
      "-- Epoch 33\n",
      "Norm: 5.79, NNZs: 7, Bias: -4.274113, T: 10560, Avg. loss: 0.317644\n",
      "Total training time: 0.00 seconds.\n",
      "-- Epoch 34\n",
      "Norm: 5.46, NNZs: 7, Bias: -4.637895, T: 10880, Avg. loss: 0.329305\n",
      "Total training time: 0.00 seconds.\n",
      "Convergence after 34 epochs took 0.00 seconds\n",
      "Last Bias Value: [-4.63789452]\n",
      "\n",
      "\n",
      "\n",
      "\n",
      "First Three Weights: \n",
      "[[ 0.5332203   2.7060211   0.75723134 -0.35177921 -0.01155872  4.37210052\n",
      "   1.56112709]]\n"
     ]
    }
   ],
   "source": [
    "from sklearn.linear_model import SGDClassifier\n",
    "\n",
    "sgd_model = SGDClassifier(loss = \"log_loss\",max_iter=1000,tol = 1e-4, random_state=42, verbose = 1) # tolerans = 1e^-4, verbose = 1 : epochları gösterme.\n",
    "sgd_model.fit(X_train_scaled, y_train)\n",
    "\n",
    "print(f\"Last Bias Value: {sgd_model.intercept_}\\n\\n\")\n",
    "print(f\"\\n\\nFirst Three Weights: \\n{sgd_model.coef_[:3]}\")"
   ]
  },
  {
   "cell_type": "markdown",
   "id": "cce40673-4544-4d7a-99ab-63e2476162f4",
   "metadata": {},
   "source": [
    "### **Feature Importence**\n"
   ]
  },
  {
   "cell_type": "code",
   "execution_count": 61,
   "id": "5e8aecd1e66206ed",
   "metadata": {
    "ExecuteTime": {
     "end_time": "2025-05-06T06:35:19.682777Z",
     "start_time": "2025-05-06T06:35:19.561401Z"
    }
   },
   "outputs": [
    {
     "data": {
      "image/png": "[encoded data removed]",
      "text/plain": [
       "<Figure size 1200x800 with 2 Axes>"
      ]
     },
     "metadata": {},
     "output_type": "display_data"
    }
   ],
   "source": [
    "import matplotlib.pyplot as plt\n",
    "import seaborn as sns\n",
    "\n",
    "corr_matrix = data.corr()\n",
    "\n",
    "\n",
    "plt.figure(figsize=(12, 8))\n",
    "sns.heatmap(corr_matrix, annot=True, cmap='YlGnBu', linewidths=0.2, vmin=0, vmax=1)\n",
    "plt.xlabel('Features')\n",
    "plt.ylabel('Features')\n",
    "plt.title('Feature Importances using Correlation Matrix Heatmap')\n",
    "plt.show()\n"
   ]
  },
  {
   "cell_type": "code",
   "execution_count": 62,
   "id": "b5b4ecdd85658c05",
   "metadata": {
    "ExecuteTime": {
     "end_time": "2025-05-06T06:35:19.757035Z",
     "start_time": "2025-05-06T06:35:19.697781Z"
    }
   },
   "outputs": [
    {
     "data": {
      "image/png": "[encoded data removed]",
      "text/plain": [
       "<Figure size 800x500 with 1 Axes>"
      ]
     },
     "metadata": {},
     "output_type": "display_data"
    }
   ],
   "source": [
    "feature_importance = np.abs(model.coef_[0])\n",
    "feature_names = X.columns\n",
    "\n",
    "\n",
    "sorted_indices = np.argsort(feature_importance)[::-1]  \n",
    "sorted_features = feature_names[sorted_indices]\n",
    "sorted_importance = feature_importance[sorted_indices]\n",
    "\n",
    "\n",
    "plt.figure(figsize=(8, 5))\n",
    "plt.barh(sorted_features, sorted_importance)\n",
    "plt.xlabel(\"Feature Importance\")\n",
    "plt.ylabel(\"Features\")\n",
    "plt.title(\"Logistic Regression Feature Importance (Sorted)\")\n",
    "plt.show()"
   ]
  },
  {
   "cell_type": "markdown",
   "id": "773cbc2b-765f-48cf-9d40-f103a88c2808",
   "metadata": {},
   "source": [
    "# 🎯 **Threshold Adjustments & Model Performance**\n",
    "\n",
    "## 🔍 **What Happens When Threshold = 0.7?**\n",
    "- Lowering the threshold to **0.7** naturally **increases** the number of students classified as \"admitted.\"\n",
    "- More examples move into the **positive class**, meaning the model predicts **more admissions**.\n",
    "- As a result, **false positives slightly increase**—the model is more **optimistic** in its predictions.\n",
    "- Accuracy shows a **minor increase** (by ~0.05) compared to a **0.75 threshold**, so the impact isn’t drastic.\n",
    "\n",
    "---\n",
    "\n",
    "## 🔍 **What Happens When Threshold = 0.8?**\n",
    "- The model becomes **more cautious** when predicting admissions.\n",
    "- **False positives decrease**, meaning fewer students are incorrectly marked as admitted.\n",
    "- **False negatives also decrease**, making the model more **reliable** overall.\n",
    "- Accuracy **improves**, as the model makes **more confident predictions**.\n",
    "\n",
    "---\n",
    "\n",
    "# 🚀 **How Can We Improve the Model?**\n",
    "\n",
    "### ✅ **Class Imbalance Check**\n",
    "- Initially, the dataset seemed **balanced**, meaning no class had a **significant advantage**.\n",
    "- If an imbalance were found earlier, **methods like SMOTE or resampling** could have been applied.\n",
    "\n",
    "### 📈 **Exploring ROC Curve**\n",
    "- To better understand the model, we’ll **visualize the ROC Curve**.\n",
    "- This will show how well the model distinguishes between admitted and non-admitted students.\n",
    "\n",
    "### 🔍 **Finding the Optimal Threshold**\n",
    "- What's the **best admission threshold**?  \n",
    "- Manually, **0.8** seems **optimal** as the ROC curve doesn’t fluctuate drastically.\n",
    "- However, is there a **function to automate finding the best threshold?** 🤔 Let's explore!\n",
    "\n",
    "---\n",
    "\n",
    "## ⚠️ **Class Imbalance Detected!**\n",
    "- A second imbalance check revealed that **Class 0 vs. Class 1 has nearly a 2x difference** in frequency.\n",
    "- Solutions to balance the dataset:\n",
    "  - **Use `class_weight='balanced'` in Logistic Regression** ✅\n",
    "  - **Apply SMOTE (Synthetic Minority Over-sampling Technique)** ✨\n",
    "  - **Try Under-Sampling methods** 🔄\n",
    "\n",
    "---\n"
   ]
  },
  {
   "cell_type": "code",
   "execution_count": 63,
   "id": "15bdaa7a-8a82-4d44-9a78-6c56b9acc425",
   "metadata": {},
   "outputs": [
    {
     "data": {
      "image/png": "[encoded data removed]",
      "text/plain": [
       "<Figure size 800x600 with 1 Axes>"
      ]
     },
     "metadata": {},
     "output_type": "display_data"
    }
   ],
   "source": [
    "from sklearn.metrics import roc_curve, auc\n",
    "\n",
    "fpr, tpr, thresholds = roc_curve(y_test, y_pred_probability) \n",
    "roc_auc = auc(fpr, tpr)\n",
    "\n",
    "\n",
    "plt.figure(figsize=(8,6))\n",
    "plt.plot(fpr, tpr, color=\"blue\", label=f\"ROC curve (area = {roc_auc:.2f})\")\n",
    "plt.plot([0, 1], [0, 1], color=\"grey\", linestyle=\"--\")  \n",
    "plt.xlabel(\"False Positive Rate\")\n",
    "plt.ylabel(\"True Positive Rate\")\n",
    "plt.title(\"ROC Curve - Thresh Hold Analyze\")\n",
    "plt.legend(loc=\"lower right\")\n",
    "plt.show()"
   ]
  },
  {
   "cell_type": "markdown",
   "id": "8ef4ef04-b293-42ac-a58c-69546af7b3f9",
   "metadata": {},
   "source": [
    "Here’s an improved and translated version of your markdown with a more engaging tone:\n",
    "\n",
    "---\n",
    "\n",
    "# 📌 **AUC (Area Under the Curve) Score Analysis**  \n",
    "\n",
    "## 🔍 **Understanding AUC**\n",
    "- **AUC = 0.99**, meaning the model has **excellent discrimination ability** between classes.  \n",
    "- A **perfect model** would have an AUC of **1.0**, while a completely random model would have an AUC of **0.5**.  \n",
    "- A **0.99 score** indicates that the model is correctly distinguishing classes in almost all cases!  \n",
    "\n",
    "---\n",
    "\n",
    "## 📌 **Conclusion**  \n",
    "✅ **The model is nearly perfect!**  \n",
    "✅ It **keeps false positives very low** while making **accurate positive predictions**.  \n",
    "✅ This suggests **high reliability** and strong classification performance.  \n",
    "\n"
   ]
  }
 ],
 "metadata": {
  "kernelspec": {
   "display_name": "Python 3 (ipykernel)",
   "language": "python",
   "name": "python3"
  },
  "language_info": {
   "codemirror_mode": {
    "name": "ipython",
    "version": 3
   },
   "file_extension": ".py",
   "mimetype": "text/x-python",
   "name": "python",
   "nbconvert_exporter": "python",
   "pygments_lexer": "ipython3",
   "version": "3.12.7"
  }
 },
 "nbformat": 4,
 "nbformat_minor": 5
}
